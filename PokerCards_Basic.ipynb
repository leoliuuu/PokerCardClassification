{
  "nbformat": 4,
  "nbformat_minor": 0,
  "metadata": {
    "colab": {
      "name": "PokerCards Basic.ipynb",
      "provenance": [],
      "collapsed_sections": [],
      "include_colab_link": true
    },
    "kernelspec": {
      "name": "python3",
      "display_name": "Python 3"
    },
    "accelerator": "GPU"
  },
  "cells": [
    {
      "cell_type": "markdown",
      "metadata": {
        "id": "view-in-github",
        "colab_type": "text"
      },
      "source": [
        "<a href=\"https://colab.research.google.com/github/leoliuuu/PokerCardClassification/blob/main/PokerCards_Basic.ipynb\" target=\"_parent\"><img src=\"https://colab.research.google.com/assets/colab-badge.svg\" alt=\"Open In Colab\"/></a>"
      ]
    },
    {
      "cell_type": "code",
      "metadata": {
        "id": "YkLEWJG2UKse",
        "colab": {
          "base_uri": "https://localhost:8080/",
          "height": 258
        },
        "outputId": "19fad1ca-0a24-4787-cd74-565625946098"
      },
      "source": [
        "!pip install torchviz\n",
        "import gdown, os, shutil\n",
        "from torchvision.datasets import ImageFolder\n",
        "import torchvision.transforms as transforms\n",
        "from torch.utils.data.sampler import SubsetRandomSampler\n",
        "from torch.autograd import Variable\n",
        "from torchviz import make_dot\n",
        "import torch\n",
        "import torch.nn as nn\n",
        "import torchvision\n",
        "import torch.optim as optim\n",
        "import time\n",
        "import matplotlib.pyplot as plt\n",
        "from collections import defaultdict\n",
        "import numpy as np # we always love numpy"
      ],
      "execution_count": null,
      "outputs": [
        {
          "output_type": "stream",
          "text": [
            "Collecting torchviz\n",
            "\u001b[?25l  Downloading https://files.pythonhosted.org/packages/8f/8e/a9630c7786b846d08b47714dd363a051f5e37b4ea0e534460d8cdfc1644b/torchviz-0.0.1.tar.gz (41kB)\n",
            "\r\u001b[K     |████████                        | 10kB 15.8MB/s eta 0:00:01\r\u001b[K     |████████████████                | 20kB 3.2MB/s eta 0:00:01\r\u001b[K     |███████████████████████▉        | 30kB 4.6MB/s eta 0:00:01\r\u001b[K     |███████████████████████████████▉| 40kB 6.0MB/s eta 0:00:01\r\u001b[K     |████████████████████████████████| 51kB 6.3MB/s \n",
            "\u001b[?25hRequirement already satisfied: torch in /usr/local/lib/python3.6/dist-packages (from torchviz) (1.2.0)\n",
            "Requirement already satisfied: graphviz in /usr/local/lib/python3.6/dist-packages (from torchviz) (0.10.1)\n",
            "Requirement already satisfied: numpy in /usr/local/lib/python3.6/dist-packages (from torch->torchviz) (1.16.5)\n",
            "Building wheels for collected packages: torchviz\n",
            "  Building wheel for torchviz (setup.py) ... \u001b[?25l\u001b[?25hdone\n",
            "  Created wheel for torchviz: filename=torchviz-0.0.1-cp36-none-any.whl size=3520 sha256=07f22cf6df28652c4b651deddfd3b2a2710f542d69ccba91caf12220bf81ad8f\n",
            "  Stored in directory: /root/.cache/pip/wheels/2a/c2/c5/b8b4d0f7992c735f6db5bfa3c5f354cf36502037ca2b585667\n",
            "Successfully built torchviz\n",
            "Installing collected packages: torchviz\n",
            "Successfully installed torchviz-0.0.1\n"
          ],
          "name": "stdout"
        }
      ]
    },
    {
      "cell_type": "code",
      "metadata": {
        "id": "whtV5BHXAMC0",
        "colab": {
          "base_uri": "https://localhost:8080/",
          "height": 85
        },
        "outputId": "42535efa-b6ad-413c-8a46-e6513e28f1df"
      },
      "source": [
        "gdown.download('https://drive.google.com/uc?authuser=0&id=1wJUqN8aBmCHfffxVQIU-jIbKUJ2gTmIi&export=download', 'playing_cards.zip', quiet=False)\n",
        "!unzip -qq playing_cards.zip"
      ],
      "execution_count": null,
      "outputs": [
        {
          "output_type": "stream",
          "text": [
            "Downloading...\n",
            "From: https://drive.google.com/uc?authuser=0&id=1wJUqN8aBmCHfffxVQIU-jIbKUJ2gTmIi&export=download\n",
            "To: /content/playing_cards.zip\n",
            "548MB [00:02, 227MB/s]\n"
          ],
          "name": "stderr"
        }
      ]
    },
    {
      "cell_type": "markdown",
      "metadata": {
        "id": "J6DuCSUZ_5CM"
      },
      "source": [
        "## Setting up dataset for classification"
      ]
    },
    {
      "cell_type": "code",
      "metadata": {
        "id": "IeEmoHJ-_4ml"
      },
      "source": [
        "source_path = './playing-cards-master/img'\n",
        "dest_path = './playing-cards-master/\n",
        "\n",
        "if os.path.exists(source_path):\n",
        "  cards = os.listdir(source_path)\n",
        "\n",
        "  # Determine card classes within img directory\n",
        "  classes = set()\n",
        "  indexes = defaultdict(list)\n",
        "  for idx, card in enumerate(cards):\n",
        "    if '[' in card and ']' in card:\n",
        "      start = card.find('[')\n",
        "      end = card.find(']')\n",
        "      c = card[start+1:end]\n",
        "      classes.add(c)\n",
        "      indexes[c].append(idx)\n",
        "\n",
        "  # Create class directories\n",
        "  for c in classes:\n",
        "    if not os.path.exists(dest_path + c): \n",
        "      os.mkdir(dest_path + c)\n",
        "\n",
        "  # Move images to corresponding directory\n",
        "  for key, values in indexes.items():\n",
        "    for i in values:\n",
        "      shutil.move(source_path+'/'+cards[i], dest_path+key)\n",
        "\n",
        "  # Delete img directory\n",
        "  os.rmdir(source_path)\n",
        "  classes = list(classes) # TODO: Maybe don't need, b/c of playing_cards.classes"
      ],
      "execution_count": null,
      "outputs": []
    },
    {
      "cell_type": "code",
      "metadata": {
        "id": "aWBXlkSFo9RK",
        "colab": {
          "base_uri": "https://localhost:8080/",
          "height": 34
        },
        "outputId": "c0b9675c-f6b4-4758-b980-3ddce1be77d5"
      },
      "source": [
        "len(classes)"
      ],
      "execution_count": null,
      "outputs": [
        {
          "output_type": "execute_result",
          "data": {
            "text/plain": [
              "54"
            ]
          },
          "metadata": {
            "tags": []
          },
          "execution_count": 4
        }
      ]
    },
    {
      "cell_type": "code",
      "metadata": {
        "id": "IaHUY5RLbnxT"
      },
      "source": [
        "def show_image(img_tensor):\n",
        "    # need to reorder the tensor dimensions to work properly with imshow\n",
        "    plt.imshow(img_tensor.transpose(0,2).transpose(0,1))\n",
        "    plt.axis('off')\n",
        "    plt.show()"
      ],
      "execution_count": null,
      "outputs": []
    },
    {
      "cell_type": "code",
      "metadata": {
        "id": "vsueybb7z9ws",
        "colab": {
          "base_uri": "https://localhost:8080/",
          "height": 34
        },
        "outputId": "bf41914a-d173-4bc9-87f4-290db4051382"
      },
      "source": [
        "# image_dims = [3, 2322, 4128]\n",
        "image_dims_og = [3, 2322, 4128]\n",
        "resize = 32\n",
        "image_dims = [3, 98, 98]\n",
        "image_dims"
      ],
      "execution_count": null,
      "outputs": [
        {
          "output_type": "execute_result",
          "data": {
            "text/plain": [
              "[3, 98, 98]"
            ]
          },
          "metadata": {
            "tags": []
          },
          "execution_count": 6
        }
      ]
    },
    {
      "cell_type": "markdown",
      "metadata": {
        "id": "461nM04uzsCS"
      },
      "source": [
        "## Data Cache"
      ]
    },
    {
      "cell_type": "code",
      "metadata": {
        "id": "CFu-jK9azqyS"
      },
      "source": [
        "# Datasets must always subclass either Dataset (either directly or indirectly)\n",
        "# Here, we use subclass the ImageFolder class.\n",
        "class CachedDataset(ImageFolder):\n",
        "    def __init__(self, root, move_to_GPU=False, transform=None, target_transform=None):\n",
        "        \"\"\" The init method passes most arguments up to the `ImageFolder` class.\n",
        "\n",
        "            The exception is the `move_to_GPU` input, which if set to true will\n",
        "            move the returned data to CUDA and if false, will keep it on the CPU\n",
        "        \"\"\"\n",
        "        # make sure to call the super class init method\n",
        "        super(CachedDataset, self).__init__(root,\n",
        "                                            transform=transform,\n",
        "                                            target_transform=target_transform)\n",
        "        self.total_time_loading = 0\n",
        "        self.move_to_GPU = move_to_GPU\n",
        "        # we'll cache the loaded tensors here\n",
        "        self.tensor_cache = {}\n",
        "\n",
        "    def __getitem__(self, index):\n",
        "        \"\"\"\n",
        "        Args:\n",
        "            index (int): Index\n",
        "        Returns:\n",
        "            tuple: (image, target) where target is index of the target class.\n",
        "        \"\"\"\n",
        "        t_start = time.time()\n",
        "        if int(index) in self.tensor_cache:\n",
        "            self.total_time_loading += time.time() - t_start\n",
        "            return self.tensor_cache[int(index)]\n",
        "\n",
        "        inputs, target = super(CachedDataset, self).__getitem__(index)\n",
        "        if self.move_to_GPU:\n",
        "            self.tensor_cache[int(index)] = inputs.to('cuda'), target\n",
        "        else:\n",
        "            self.tensor_cache[int(index)] = inputs, target\n",
        "        self.total_time_loading += time.time() - t_start\n",
        "        return self.tensor_cache[int(index)]"
      ],
      "execution_count": null,
      "outputs": []
    },
    {
      "cell_type": "code",
      "metadata": {
        "id": "ZjmByF-awybX"
      },
      "source": [
        "# playing_cards = ImageFolder(root='./playing-cards-master',transform=transforms.Compose([\n",
        "#   transforms.Resize(99),\n",
        "#   transforms.CenterCrop(98),\n",
        "#   transforms.ToTensor()\n",
        "# ]))"
      ],
      "execution_count": null,
      "outputs": []
    },
    {
      "cell_type": "code",
      "metadata": {
        "id": "9E-9nm850QlX"
      },
      "source": [
        "playing_cards = CachedDataset(root='./playing-cards-master',transform=transforms.Compose([\n",
        "  transforms.Resize(99),\n",
        "  transforms.CenterCrop(98),\n",
        "  transforms.ToTensor()\n",
        "]))"
      ],
      "execution_count": null,
      "outputs": []
    },
    {
      "cell_type": "code",
      "metadata": {
        "id": "HyqsXP49tHbD"
      },
      "source": [
        "# playing_cards = ImageFolder(root='./playing-cards-master',transform=transforms.Compose([transforms.ToTensor()]))"
      ],
      "execution_count": null,
      "outputs": []
    },
    {
      "cell_type": "code",
      "metadata": {
        "id": "lUPnxQdo5bCe",
        "colab": {
          "base_uri": "https://localhost:8080/",
          "height": 302
        },
        "outputId": "52a5d9bd-2614-4bb9-d75d-4af43ca548e3"
      },
      "source": [
        "im, target = playing_cards[215]\n",
        "print(playing_cards.classes[target])\n",
        "print(im.shape)\n",
        "show_image(im)"
      ],
      "execution_count": null,
      "outputs": [
        {
          "output_type": "stream",
          "text": [
            "W2\n",
            "torch.Size([3, 98, 98])\n"
          ],
          "name": "stdout"
        },
        {
          "output_type": "display_data",
          "data": {
            "image/png": "[encoded data removed]",
            "text/plain": [
              "<Figure size 432x288 with 1 Axes>"
            ]
          },
          "metadata": {
            "tags": []
          }
        }
      ]
    },
    {
      "cell_type": "code",
      "metadata": {
        "id": "O2Bf6o9dN_ev"
      },
      "source": [
        "# for i, t in playing_cards:\n",
        "#   _, width, height = i.shape\n",
        "#   if width != 98 or height != 98:\n",
        "#     print('Error: wrong shape')\n",
        "#     break"
      ],
      "execution_count": null,
      "outputs": []
    },
    {
      "cell_type": "code",
      "metadata": {
        "id": "mDpw9rkl66cW"
      },
      "source": [
        "# Training/Validation Dataset split\n",
        "\n",
        "n_train = 54*3 # 54 b/c of two wildcard classes\n",
        "indices = torch.randperm(len(playing_cards))\n",
        "\n",
        "from sklearn.model_selection import StratifiedShuffleSplit\n",
        "s = StratifiedShuffleSplit(n_splits=1, test_size=.25)\n",
        "split = s.split(playing_cards.imgs, playing_cards.targets)\n",
        "train_idx, test_idx = next(split)\n",
        "train_sampler = SubsetRandomSampler(train_idx)\n",
        "test_sampler = SubsetRandomSampler(test_idx)\n",
        "\n",
        "# Define training parameters\n",
        "batch_size = 32\n",
        "learning_rate = 1e-1\n",
        "n_epochs = 20\n",
        "\n",
        "# Get our data into the mini batch size that we defined\n",
        "train_loader = torch.utils.data.DataLoader(playing_cards, batch_size=batch_size,\n",
        "                                        sampler=train_sampler)\n",
        "\n",
        "test_loader = torch.utils.data.DataLoader(playing_cards, batch_size=128,\n",
        "                                        sampler=test_sampler)"
      ],
      "execution_count": null,
      "outputs": []
    },
    {
      "cell_type": "code",
      "metadata": {
        "id": "rjCisC4bCw97",
        "colab": {
          "base_uri": "https://localhost:8080/",
          "height": 34
        },
        "outputId": "90bf4256-ff10-4195-b677-0fa9d5602156"
      },
      "source": [
        "len(playing_cards)"
      ],
      "execution_count": null,
      "outputs": [
        {
          "output_type": "execute_result",
          "data": {
            "text/plain": [
              "216"
            ]
          },
          "metadata": {
            "tags": []
          },
          "execution_count": 14
        }
      ]
    },
    {
      "cell_type": "markdown",
      "metadata": {
        "id": "lsFfohPHxBNe"
      },
      "source": [
        "## Test 1: Basic CNN Implementation"
      ]
    },
    {
      "cell_type": "code",
      "metadata": {
        "id": "6XeM92m8xUbn"
      },
      "source": [
        "class MyCNN(nn.Module):\n",
        "    # The init funciton in Pytorch classes is used to keep track of the parameters of the model\n",
        "    # specifically the ones we want to update with gradient descent + backprop\n",
        "    # So we need to make sure we keep track of all of them here\n",
        "    def __init__(self):\n",
        "        super(MyCNN, self).__init__()\n",
        "        # layers defined here\n",
        "\n",
        "        # Make sure you understand what this convolutional layer is doing.\n",
        "        # E.g., considering looking at help(nn.Conv2D).  Draw a picture of what\n",
        "        # this layer does to the data.\n",
        "\n",
        "        # note: image_dims[0] will be 3 as there are 3 color channels (R, G, B)\n",
        "        num_kernels = 16\n",
        "        self.conv1 = nn.Conv2d(image_dims[0], num_kernels, kernel_size=3, stride=1, padding=1)\n",
        "\n",
        "        # Make sure you understand what this MaxPool2D layer is doing.\n",
        "        # E.g., considering looking at help(nn.MaxPool2d).  Draw a picture of\n",
        "        # what this layer does to the data.\n",
        "\n",
        "        self.pool = nn.MaxPool2d(kernel_size=2, stride=2, padding=0)\n",
        "\n",
        "        # maxpool_output_size is the total amount of data coming out of that\n",
        "        # layer.  We have an exercise that asks you to explain why the line of\n",
        "        # code below computes this quantity.\n",
        "        self.maxpool_output_size = int(num_kernels * (image_dims[1] / 2) * (image_dims[2] / 2))\n",
        "\n",
        "        # Add on a fully connected layer (like in our MLP)\n",
        "        # fc stands for fully connected\n",
        "        fc1_size = 64\n",
        "        self.fc1 = nn.Linear(self.maxpool_output_size, fc1_size)\n",
        "\n",
        "        # we'll use this activation function internally in the network\n",
        "        self.activation_func = torch.nn.ReLU()\n",
        "\n",
        "        # Convert our fully connected layer into outputs that we can compare to the result\n",
        "        fc2_size = len(classes)\n",
        "        self.fc2 = nn.Linear(fc1_size, fc2_size)\n",
        "\n",
        "        # Note: that the output will not represent the probability of the\n",
        "        # output being in each class.  The loss function we will use\n",
        "        # `CrossEntropyLoss` will take care of convering these values to\n",
        "        # probabilities and then computing the log loss with respect to the\n",
        "        # true label.  We could break this out into multiple steps, but it turns\n",
        "        # out that the algorithm will be more numerically stable if we do it in\n",
        "        # one go.  We have included a cell to show you the documentation for\n",
        "        # `CrossEntropyLoss` if you'd like to check it out.\n",
        "        \n",
        "    # The forward function in the class defines the operations performed on a given input to the model\n",
        "    # and returns the output of the model\n",
        "    def forward(self, x):\n",
        "        x = self.conv1(x)\n",
        "        x = self.pool(x)\n",
        "        x = self.activation_func(x)\n",
        "        # this code flattens the output of the convolution, max pool,\n",
        "        # activation sequence of steps into a vector\n",
        "        x = x.view(-1, self.maxpool_output_size)\n",
        "        x = self.fc1(x)\n",
        "        x = self.activation_func(x)\n",
        "        x = self.fc2(x)\n",
        "        return x\n",
        "\n",
        "    # The loss function (which we chose to include as a method of the class, but doesn't need to be)\n",
        "    # returns the loss and optimizer used by the model\n",
        "    def get_loss(self, learning_rate):\n",
        "      # Loss function\n",
        "      loss = nn.CrossEntropyLoss()\n",
        "      # Optimizer, self.parameters() returns all the Pytorch operations that are attributes of the class\n",
        "      optimizer = optim.Adam(self.parameters(), lr=learning_rate)\n",
        "      return loss, optimizer"
      ],
      "execution_count": null,
      "outputs": []
    },
    {
      "cell_type": "markdown",
      "metadata": {
        "id": "oFiJCi4JrnbI"
      },
      "source": [
        "## Visualizing Network"
      ]
    },
    {
      "cell_type": "code",
      "metadata": {
        "id": "QAwCddrX8Q03",
        "colab": {
          "base_uri": "https://localhost:8080/",
          "height": 678
        },
        "outputId": "405dfbcf-18a3-43ec-ed32-52322a68b4a1"
      },
      "source": [
        "def visualize_network(net):\n",
        "    # Visualize the architecture of the model\n",
        "    # We need to give the net a fake input for this library to visualize the architecture\n",
        "    fake_input = Variable(torch.zeros((1,image_dims[0], image_dims[1], image_dims[2]))).to(device)\n",
        "    outputs = net(fake_input)\n",
        "    # Plot the DAG (Directed Acyclic Graph) of the model\n",
        "    return make_dot(outputs, dict(net.named_parameters()))\n",
        "\n",
        "# Define what device we want to use\n",
        "device = 'cuda' # 'cpu' if we want to not use the gpu\n",
        "# Initialize the model, loss, and optimization function\n",
        "net = MyCNN()\n",
        "# This tells our model to send all of the tensors and operations to the GPU (or keep them at the CPU if we're not using GPU)\n",
        "net.to(device)\n",
        "\n",
        "visualize_network(net)"
      ],
      "execution_count": null,
      "outputs": [
        {
          "output_type": "execute_result",
          "data": {
            "text/plain": [
              "<graphviz.dot.Digraph at 0x7fbc54d62470>"
            ],
            "image/svg+xml": "<?xml version=\"1.0\" encoding=\"UTF-8\" standalone=\"no\"?>\n<!DOCTYPE svg PUBLIC \"-//W3C//DTD SVG 1.1//EN\"\n \"http://www.w3.org/Graphics/SVG/1.1/DTD/svg11.dtd\">\n<!-- Generated by graphviz version 2.40.1 (20161225.0304)\n -->\n<!-- Title: %3 Pages: 1 -->\n<svg width=\"267pt\" height=\"493pt\"\n viewBox=\"0.00 0.00 266.50 493.00\" xmlns=\"http://www.w3.org/2000/svg\" xmlns:xlink=\"http://www.w3.org/1999/xlink\">\n<g id=\"graph0\" class=\"graph\" transform=\"scale(1 1) rotate(0) translate(4 489)\">\n<title>%3</title>\n<polygon fill=\"#ffffff\" stroke=\"transparent\" points=\"-4,4 -4,-489 262.5,-489 262.5,4 -4,4\"/>\n<!-- 140446853898872 -->\n<g id=\"node1\" class=\"node\">\n<title>140446853898872</title>\n<polygon fill=\"#caff70\" stroke=\"#000000\" points=\"171,-21 67,-21 67,0 171,0 171,-21\"/>\n<text text-anchor=\"middle\" x=\"119\" y=\"-7.4\" font-family=\"Times,serif\" font-size=\"12.00\" fill=\"#000000\">AddmmBackward</text>\n</g>\n<!-- 140446853899488 -->\n<g id=\"node2\" class=\"node\">\n<title>140446853899488</title>\n<polygon fill=\"#add8e6\" stroke=\"#000000\" points=\"54,-91 0,-91 0,-57 54,-57 54,-91\"/>\n<text text-anchor=\"middle\" x=\"27\" y=\"-77.4\" font-family=\"Times,serif\" font-size=\"12.00\" fill=\"#000000\">fc2.bias</text>\n<text text-anchor=\"middle\" x=\"27\" y=\"-64.4\" font-family=\"Times,serif\" font-size=\"12.00\" fill=\"#000000\"> (54)</text>\n</g>\n<!-- 140446853899488&#45;&gt;140446853898872 -->\n<g id=\"edge1\" class=\"edge\">\n<title>140446853899488&#45;&gt;140446853898872</title>\n<path fill=\"none\" stroke=\"#000000\" d=\"M51.6543,-56.9832C65.1894,-47.641 81.8926,-36.1122 95.278,-26.8734\"/>\n<polygon fill=\"#000000\" stroke=\"#000000\" points=\"97.2865,-29.7398 103.5283,-21.1788 93.3102,-23.9788 97.2865,-29.7398\"/>\n</g>\n<!-- 140446853898480 -->\n<g id=\"node3\" class=\"node\">\n<title>140446853898480</title>\n<polygon fill=\"#d3d3d3\" stroke=\"#000000\" points=\"166,-84.5 72,-84.5 72,-63.5 166,-63.5 166,-84.5\"/>\n<text text-anchor=\"middle\" x=\"119\" y=\"-70.9\" font-family=\"Times,serif\" font-size=\"12.00\" fill=\"#000000\">ReluBackward0</text>\n</g>\n<!-- 140446853898480&#45;&gt;140446853898872 -->\n<g id=\"edge2\" class=\"edge\">\n<title>140446853898480&#45;&gt;140446853898872</title>\n<path fill=\"none\" stroke=\"#000000\" d=\"M119,-63.2281C119,-54.5091 119,-41.9699 119,-31.3068\"/>\n<polygon fill=\"#000000\" stroke=\"#000000\" points=\"122.5001,-31.1128 119,-21.1128 115.5001,-31.1129 122.5001,-31.1128\"/>\n</g>\n<!-- 140446853898984 -->\n<g id=\"node4\" class=\"node\">\n<title>140446853898984</title>\n<polygon fill=\"#d3d3d3\" stroke=\"#000000\" points=\"170,-154.5 66,-154.5 66,-133.5 170,-133.5 170,-154.5\"/>\n<text text-anchor=\"middle\" x=\"118\" y=\"-140.9\" font-family=\"Times,serif\" font-size=\"12.00\" fill=\"#000000\">AddmmBackward</text>\n</g>\n<!-- 140446853898984&#45;&gt;140446853898480 -->\n<g id=\"edge3\" class=\"edge\">\n<title>140446853898984&#45;&gt;140446853898480</title>\n<path fill=\"none\" stroke=\"#000000\" d=\"M118.1519,-133.3685C118.2972,-123.1925 118.5206,-107.5606 118.7016,-94.8912\"/>\n<polygon fill=\"#000000\" stroke=\"#000000\" points=\"122.2034,-94.7806 118.8467,-84.7315 115.2041,-94.6805 122.2034,-94.7806\"/>\n</g>\n<!-- 140446853899096 -->\n<g id=\"node5\" class=\"node\">\n<title>140446853899096</title>\n<polygon fill=\"#add8e6\" stroke=\"#000000\" points=\"54,-231 0,-231 0,-197 54,-197 54,-231\"/>\n<text text-anchor=\"middle\" x=\"27\" y=\"-217.4\" font-family=\"Times,serif\" font-size=\"12.00\" fill=\"#000000\">fc1.bias</text>\n<text text-anchor=\"middle\" x=\"27\" y=\"-204.4\" font-family=\"Times,serif\" font-size=\"12.00\" fill=\"#000000\"> (64)</text>\n</g>\n<!-- 140446853899096&#45;&gt;140446853898984 -->\n<g id=\"edge4\" class=\"edge\">\n<title>140446853899096&#45;&gt;140446853898984</title>\n<path fill=\"none\" stroke=\"#000000\" d=\"M49.4944,-196.6966C63.7034,-185.7666 81.9745,-171.7119 96.0735,-160.8666\"/>\n<polygon fill=\"#000000\" stroke=\"#000000\" points=\"98.447,-163.4565 104.2393,-154.5852 94.179,-157.9081 98.447,-163.4565\"/>\n</g>\n<!-- 140446853898704 -->\n<g id=\"node6\" class=\"node\">\n<title>140446853898704</title>\n<polygon fill=\"#d3d3d3\" stroke=\"#000000\" points=\"163.5,-224.5 72.5,-224.5 72.5,-203.5 163.5,-203.5 163.5,-224.5\"/>\n<text text-anchor=\"middle\" x=\"118\" y=\"-210.9\" font-family=\"Times,serif\" font-size=\"12.00\" fill=\"#000000\">ViewBackward</text>\n</g>\n<!-- 140446853898704&#45;&gt;140446853898984 -->\n<g id=\"edge5\" class=\"edge\">\n<title>140446853898704&#45;&gt;140446853898984</title>\n<path fill=\"none\" stroke=\"#000000\" d=\"M118,-203.3685C118,-193.1925 118,-177.5606 118,-164.8912\"/>\n<polygon fill=\"#000000\" stroke=\"#000000\" points=\"121.5001,-164.7315 118,-154.7315 114.5001,-164.7316 121.5001,-164.7315\"/>\n</g>\n<!-- 140446853900440 -->\n<g id=\"node7\" class=\"node\">\n<title>140446853900440</title>\n<polygon fill=\"#d3d3d3\" stroke=\"#000000\" points=\"164,-294.5 70,-294.5 70,-273.5 164,-273.5 164,-294.5\"/>\n<text text-anchor=\"middle\" x=\"117\" y=\"-280.9\" font-family=\"Times,serif\" font-size=\"12.00\" fill=\"#000000\">ReluBackward0</text>\n</g>\n<!-- 140446853900440&#45;&gt;140446853898704 -->\n<g id=\"edge6\" class=\"edge\">\n<title>140446853900440&#45;&gt;140446853898704</title>\n<path fill=\"none\" stroke=\"#000000\" d=\"M117.1519,-273.3685C117.2972,-263.1925 117.5206,-247.5606 117.7016,-234.8912\"/>\n<polygon fill=\"#000000\" stroke=\"#000000\" points=\"121.2034,-234.7806 117.8467,-224.7315 114.2041,-234.6805 121.2034,-234.7806\"/>\n</g>\n<!-- 140446853899768 -->\n<g id=\"node8\" class=\"node\">\n<title>140446853899768</title>\n<polygon fill=\"#d3d3d3\" stroke=\"#000000\" points=\"207,-358 27,-358 27,-337 207,-337 207,-358\"/>\n<text text-anchor=\"middle\" x=\"117\" y=\"-344.4\" font-family=\"Times,serif\" font-size=\"12.00\" fill=\"#000000\">MaxPool2DWithIndicesBackward</text>\n</g>\n<!-- 140446853899768&#45;&gt;140446853900440 -->\n<g id=\"edge7\" class=\"edge\">\n<title>140446853899768&#45;&gt;140446853900440</title>\n<path fill=\"none\" stroke=\"#000000\" d=\"M117,-336.7281C117,-328.0091 117,-315.4699 117,-304.8068\"/>\n<polygon fill=\"#000000\" stroke=\"#000000\" points=\"120.5001,-304.6128 117,-294.6128 113.5001,-304.6129 120.5001,-304.6128\"/>\n</g>\n<!-- 140446853899656 -->\n<g id=\"node9\" class=\"node\">\n<title>140446853899656</title>\n<polygon fill=\"#d3d3d3\" stroke=\"#000000\" points=\"195.5,-415 38.5,-415 38.5,-394 195.5,-394 195.5,-415\"/>\n<text text-anchor=\"middle\" x=\"117\" y=\"-401.4\" font-family=\"Times,serif\" font-size=\"12.00\" fill=\"#000000\">CudnnConvolutionBackward</text>\n</g>\n<!-- 140446853899656&#45;&gt;140446853899768 -->\n<g id=\"edge8\" class=\"edge\">\n<title>140446853899656&#45;&gt;140446853899768</title>\n<path fill=\"none\" stroke=\"#000000\" d=\"M117,-393.7787C117,-386.6134 117,-376.9517 117,-368.3097\"/>\n<polygon fill=\"#000000\" stroke=\"#000000\" points=\"120.5001,-368.1732 117,-358.1732 113.5001,-368.1732 120.5001,-368.1732\"/>\n</g>\n<!-- 140446844976544 -->\n<g id=\"node10\" class=\"node\">\n<title>140446844976544</title>\n<polygon fill=\"#add8e6\" stroke=\"#000000\" points=\"111.5,-485 30.5,-485 30.5,-451 111.5,-451 111.5,-485\"/>\n<text text-anchor=\"middle\" x=\"71\" y=\"-471.4\" font-family=\"Times,serif\" font-size=\"12.00\" fill=\"#000000\">conv1.weight</text>\n<text text-anchor=\"middle\" x=\"71\" y=\"-458.4\" font-family=\"Times,serif\" font-size=\"12.00\" fill=\"#000000\"> (16, 3, 3, 3)</text>\n</g>\n<!-- 140446844976544&#45;&gt;140446853899656 -->\n<g id=\"edge9\" class=\"edge\">\n<title>140446844976544&#45;&gt;140446853899656</title>\n<path fill=\"none\" stroke=\"#000000\" d=\"M83.3272,-450.9832C89.4107,-442.5853 96.7742,-432.4204 103.0621,-423.7404\"/>\n<polygon fill=\"#000000\" stroke=\"#000000\" points=\"106.0945,-425.5204 109.1266,-415.3687 100.4256,-421.4138 106.0945,-425.5204\"/>\n</g>\n<!-- 140446844793744 -->\n<g id=\"node11\" class=\"node\">\n<title>140446844793744</title>\n<polygon fill=\"#add8e6\" stroke=\"#000000\" points=\"198,-485 130,-485 130,-451 198,-451 198,-485\"/>\n<text text-anchor=\"middle\" x=\"164\" y=\"-471.4\" font-family=\"Times,serif\" font-size=\"12.00\" fill=\"#000000\">conv1.bias</text>\n<text text-anchor=\"middle\" x=\"164\" y=\"-458.4\" font-family=\"Times,serif\" font-size=\"12.00\" fill=\"#000000\"> (16)</text>\n</g>\n<!-- 140446844793744&#45;&gt;140446853899656 -->\n<g id=\"edge10\" class=\"edge\">\n<title>140446844793744&#45;&gt;140446853899656</title>\n<path fill=\"none\" stroke=\"#000000\" d=\"M151.4049,-450.9832C145.1237,-442.4969 137.5069,-432.2062 131.0384,-423.4668\"/>\n<polygon fill=\"#000000\" stroke=\"#000000\" points=\"133.8071,-421.3243 125.0445,-415.3687 128.1806,-425.4888 133.8071,-421.3243\"/>\n</g>\n<!-- 140446853899600 -->\n<g id=\"node12\" class=\"node\">\n<title>140446853899600</title>\n<polygon fill=\"#d3d3d3\" stroke=\"#000000\" points=\"255.5,-224.5 182.5,-224.5 182.5,-203.5 255.5,-203.5 255.5,-224.5\"/>\n<text text-anchor=\"middle\" x=\"219\" y=\"-210.9\" font-family=\"Times,serif\" font-size=\"12.00\" fill=\"#000000\">TBackward</text>\n</g>\n<!-- 140446853899600&#45;&gt;140446853898984 -->\n<g id=\"edge11\" class=\"edge\">\n<title>140446853899600&#45;&gt;140446853898984</title>\n<path fill=\"none\" stroke=\"#000000\" d=\"M203.6603,-203.3685C187.1024,-191.8927 160.533,-173.4783 141.3726,-160.1988\"/>\n<polygon fill=\"#000000\" stroke=\"#000000\" points=\"143.3659,-157.3219 133.1532,-154.5022 139.3784,-163.0752 143.3659,-157.3219\"/>\n</g>\n<!-- 140446853899936 -->\n<g id=\"node13\" class=\"node\">\n<title>140446853899936</title>\n<polygon fill=\"#add8e6\" stroke=\"#000000\" points=\"257.5,-301 182.5,-301 182.5,-267 257.5,-267 257.5,-301\"/>\n<text text-anchor=\"middle\" x=\"220\" y=\"-287.4\" font-family=\"Times,serif\" font-size=\"12.00\" fill=\"#000000\">fc1.weight</text>\n<text text-anchor=\"middle\" x=\"220\" y=\"-274.4\" font-family=\"Times,serif\" font-size=\"12.00\" fill=\"#000000\"> (64, 38416)</text>\n</g>\n<!-- 140446853899936&#45;&gt;140446853899600 -->\n<g id=\"edge12\" class=\"edge\">\n<title>140446853899936&#45;&gt;140446853899600</title>\n<path fill=\"none\" stroke=\"#000000\" d=\"M219.7528,-266.6966C219.6152,-257.0634 219.4429,-245.003 219.2979,-234.8518\"/>\n<polygon fill=\"#000000\" stroke=\"#000000\" points=\"222.7967,-234.7402 219.1542,-224.7913 215.7975,-234.8403 222.7967,-234.7402\"/>\n</g>\n<!-- 140446853899320 -->\n<g id=\"node14\" class=\"node\">\n<title>140446853899320</title>\n<polygon fill=\"#d3d3d3\" stroke=\"#000000\" points=\"258.5,-84.5 185.5,-84.5 185.5,-63.5 258.5,-63.5 258.5,-84.5\"/>\n<text text-anchor=\"middle\" x=\"222\" y=\"-70.9\" font-family=\"Times,serif\" font-size=\"12.00\" fill=\"#000000\">TBackward</text>\n</g>\n<!-- 140446853899320&#45;&gt;140446853898872 -->\n<g id=\"edge13\" class=\"edge\">\n<title>140446853899320&#45;&gt;140446853898872</title>\n<path fill=\"none\" stroke=\"#000000\" d=\"M204.5275,-63.2281C188.1519,-53.1325 163.4682,-37.9149 144.8209,-26.4187\"/>\n<polygon fill=\"#000000\" stroke=\"#000000\" points=\"146.5636,-23.3814 136.2145,-21.1128 142.8901,-29.3401 146.5636,-23.3814\"/>\n</g>\n<!-- 140446853898424 -->\n<g id=\"node15\" class=\"node\">\n<title>140446853898424</title>\n<polygon fill=\"#add8e6\" stroke=\"#000000\" points=\"255.5,-161 188.5,-161 188.5,-127 255.5,-127 255.5,-161\"/>\n<text text-anchor=\"middle\" x=\"222\" y=\"-147.4\" font-family=\"Times,serif\" font-size=\"12.00\" fill=\"#000000\">fc2.weight</text>\n<text text-anchor=\"middle\" x=\"222\" y=\"-134.4\" font-family=\"Times,serif\" font-size=\"12.00\" fill=\"#000000\"> (54, 64)</text>\n</g>\n<!-- 140446853898424&#45;&gt;140446853899320 -->\n<g id=\"edge14\" class=\"edge\">\n<title>140446853898424&#45;&gt;140446853899320</title>\n<path fill=\"none\" stroke=\"#000000\" d=\"M222,-126.6966C222,-117.0634 222,-105.003 222,-94.8518\"/>\n<polygon fill=\"#000000\" stroke=\"#000000\" points=\"225.5001,-94.7912 222,-84.7913 218.5001,-94.7913 225.5001,-94.7912\"/>\n</g>\n</g>\n</svg>\n"
          },
          "metadata": {
            "tags": []
          },
          "execution_count": 16
        }
      ]
    },
    {
      "cell_type": "markdown",
      "metadata": {
        "id": "huip-yQo250I"
      },
      "source": [
        "## Training"
      ]
    },
    {
      "cell_type": "code",
      "metadata": {
        "id": "UqaDAXko28AY"
      },
      "source": [
        "def train_model(net):\n",
        "    \"\"\" Train a the specified network.\n",
        "\n",
        "        Outputs a tuple with the following four elements\n",
        "        train_hist_x: the x-values (batch number) that the training set was \n",
        "            evaluated on.\n",
        "        train_loss_hist: the loss values for the training set corresponding to\n",
        "            the batch numbers returned in train_hist_x\n",
        "        test_hist_x: the x-values (batch number) that the test set was \n",
        "            evaluated on.\n",
        "        test_loss_hist: the loss values for the test set corresponding to\n",
        "            the batch numbers returned in test_hist_x\n",
        "    \"\"\" \n",
        "    loss, optimizer = net.get_loss(learning_rate)\n",
        "    # Define some parameters to keep track of metrics\n",
        "    print_every = 1\n",
        "    idx = 0\n",
        "    train_hist_x = []\n",
        "    train_loss_hist = []\n",
        "    test_hist_x = []\n",
        "    test_loss_hist = []\n",
        "\n",
        "    training_start_time = time.time()\n",
        "    # Loop for n_epochs\n",
        "    for epoch in range(n_epochs):\n",
        "      \n",
        "        running_loss = 0.0\n",
        "        start_time = time.time()\n",
        "\n",
        "        for i, data in enumerate(train_loader, 0):\n",
        "\n",
        "            # Get inputs in right form\n",
        "            inputs, labels = data\n",
        "            inputs, labels = Variable(inputs).to(device), Variable(labels).to(device)\n",
        "            \n",
        "            # In Pytorch, We need to always remember to set the optimizer gradients to 0 before we recompute the new gradients\n",
        "            optimizer.zero_grad()\n",
        "\n",
        "            # Forward pass\n",
        "            t_start = time.time()\n",
        "            outputs = net(inputs)\n",
        "            print(\"forward time\", time.time() - t_start)\n",
        "            \n",
        "            # Compute the loss and find the loss with respect to each parameter of the model\n",
        "            loss_size = loss(outputs, labels)\n",
        "            t_start = time.time()\n",
        "            loss_size.backward()\n",
        "            print(\"backward time\", time.time() - t_start)\n",
        "            \n",
        "            # Change each parameter with respect to the recently computed loss.\n",
        "            optimizer.step()\n",
        "\n",
        "            # Update statistics\n",
        "            running_loss += loss_size.data.item()\n",
        "            \n",
        "            # Print every 20th batch of an epoch\n",
        "            if (i % print_every) == print_every-1:\n",
        "                print(\"Epoch {}, Iteration {}\\t train_loss: {:.2f} took: {:.2f}s\".format(\n",
        "                    epoch + 1, i+1,running_loss / print_every, time.time() - start_time))\n",
        "                # Reset running loss and time\n",
        "                train_loss_hist.append(running_loss / print_every)\n",
        "                train_hist_x.append(idx)\n",
        "                running_loss = 0.0\n",
        "                start_time = time.time()\n",
        "            idx += 1\n",
        "\n",
        "        # At the end of the epoch, do a pass on the test set\n",
        "        total_test_loss = 0\n",
        "        for inputs, labels in test_loader:\n",
        "\n",
        "            # Wrap tensors in Variables\n",
        "            inputs, labels = Variable(inputs).to(device), Variable(labels).to(device)\n",
        "\n",
        "            # Forward pass\n",
        "            test_outputs = net(inputs)\n",
        "            test_loss_size = loss(test_outputs, labels)\n",
        "            total_test_loss += test_loss_size.data.item()\n",
        "        test_loss_hist.append(total_test_loss / len(test_loader))\n",
        "        test_hist_x.append(idx)\n",
        "        print(\"Validation loss = {:.2f}\".format(\n",
        "            total_test_loss / len(test_loader)))\n",
        "\n",
        "    print(\"Training finished, took {:.2f}s\".format(\n",
        "        time.time() - training_start_time))\n",
        "    return train_hist_x, train_loss_hist, test_hist_x, test_loss_hist"
      ],
      "execution_count": null,
      "outputs": []
    },
    {
      "cell_type": "code",
      "metadata": {
        "id": "g2kwT0T273Zy",
        "colab": {
          "base_uri": "https://localhost:8080/",
          "height": 1000
        },
        "outputId": "e5fc304d-9a66-4b3e-86ec-b963db557835"
      },
      "source": [
        "train_hist_x, train_loss_hist, test_hist_x, test_loss_hist = train_model(net)"
      ],
      "execution_count": null,
      "outputs": [
        {
          "output_type": "stream",
          "text": [
            "forward time 0.0019137859344482422\n",
            "backward time 0.0277402400970459\n",
            "Epoch 1, Iteration 1\t train_loss: 3.97 took: 6.65s\n",
            "forward time 0.0005660057067871094\n",
            "backward time 0.0011692047119140625\n",
            "Epoch 1, Iteration 2\t train_loss: 4033.68 took: 6.56s\n",
            "forward time 0.0006172657012939453\n",
            "backward time 0.0007853507995605469\n",
            "Epoch 1, Iteration 3\t train_loss: 865.83 took: 6.32s\n",
            "forward time 0.0006091594696044922\n",
            "backward time 0.0007622241973876953\n",
            "Epoch 1, Iteration 4\t train_loss: 13.24 took: 6.48s\n",
            "forward time 0.0005886554718017578\n",
            "backward time 0.0007650852203369141\n",
            "Epoch 1, Iteration 5\t train_loss: 38.59 took: 6.51s\n",
            "forward time 0.0005900859832763672\n",
            "backward time 0.0007843971252441406\n",
            "Epoch 1, Iteration 6\t train_loss: 39.84 took: 0.41s\n",
            "Validation loss = 4.01\n",
            "forward time 0.0006763935089111328\n",
            "backward time 0.00106048583984375\n",
            "Epoch 2, Iteration 1\t train_loss: 4.03 took: 0.01s\n",
            "forward time 0.0004775524139404297\n",
            "backward time 0.0008220672607421875\n",
            "Epoch 2, Iteration 2\t train_loss: 4.02 took: 0.01s\n",
            "forward time 0.0005388259887695312\n",
            "backward time 0.0008733272552490234\n",
            "Epoch 2, Iteration 3\t train_loss: 4.04 took: 0.01s\n",
            "forward time 0.0006046295166015625\n",
            "backward time 0.0008952617645263672\n",
            "Epoch 2, Iteration 4\t train_loss: 4.05 took: 0.01s\n",
            "forward time 0.0005643367767333984\n",
            "backward time 0.0010721683502197266\n",
            "Epoch 2, Iteration 5\t train_loss: 4.00 took: 0.01s\n",
            "forward time 0.0005609989166259766\n",
            "backward time 0.000934600830078125\n",
            "Epoch 2, Iteration 6\t train_loss: 4.02 took: 0.01s\n",
            "Validation loss = 4.01\n",
            "forward time 0.0005095005035400391\n",
            "backward time 0.0009539127349853516\n",
            "Epoch 3, Iteration 1\t train_loss: 4.00 took: 0.01s\n",
            "forward time 0.0005288124084472656\n",
            "backward time 0.0008704662322998047\n",
            "Epoch 3, Iteration 2\t train_loss: 4.01 took: 0.01s\n",
            "forward time 0.0004737377166748047\n",
            "backward time 0.0007791519165039062\n",
            "Epoch 3, Iteration 3\t train_loss: 3.98 took: 0.01s\n",
            "forward time 0.0005795955657958984\n",
            "backward time 0.0008540153503417969\n",
            "Epoch 3, Iteration 4\t train_loss: 4.07 took: 0.01s\n",
            "forward time 0.0005781650543212891\n",
            "backward time 0.0008440017700195312\n",
            "Epoch 3, Iteration 5\t train_loss: 4.08 took: 0.01s\n",
            "forward time 0.0004506111145019531\n",
            "backward time 0.0008015632629394531\n",
            "Epoch 3, Iteration 6\t train_loss: 4.19 took: 0.01s\n",
            "Validation loss = 4.01\n",
            "forward time 0.0004858970642089844\n",
            "backward time 0.0008962154388427734\n",
            "Epoch 4, Iteration 1\t train_loss: 3.96 took: 0.01s\n",
            "forward time 0.0005338191986083984\n",
            "backward time 0.0008425712585449219\n",
            "Epoch 4, Iteration 2\t train_loss: 4.05 took: 0.01s\n",
            "forward time 0.001184225082397461\n",
            "backward time 0.0008156299591064453\n",
            "Epoch 4, Iteration 3\t train_loss: 4.02 took: 0.01s\n",
            "forward time 0.0004470348358154297\n",
            "backward time 0.0007953643798828125\n",
            "Epoch 4, Iteration 4\t train_loss: 4.07 took: 0.01s\n",
            "forward time 0.0005295276641845703\n",
            "backward time 0.000823974609375\n",
            "Epoch 4, Iteration 5\t train_loss: 4.01 took: 0.01s\n",
            "forward time 0.0004260540008544922\n",
            "backward time 0.0008358955383300781\n",
            "Epoch 4, Iteration 6\t train_loss: 3.99 took: 0.01s\n",
            "Validation loss = 4.01\n",
            "forward time 0.0004787445068359375\n",
            "backward time 0.0009441375732421875\n",
            "Epoch 5, Iteration 1\t train_loss: 3.98 took: 0.01s\n",
            "forward time 0.0005030632019042969\n",
            "backward time 0.0009331703186035156\n",
            "Epoch 5, Iteration 2\t train_loss: 4.04 took: 0.01s\n",
            "forward time 0.0005543231964111328\n",
            "backward time 0.0007922649383544922\n",
            "Epoch 5, Iteration 3\t train_loss: 4.05 took: 0.01s\n",
            "forward time 0.0005171298980712891\n",
            "backward time 0.0007719993591308594\n",
            "Epoch 5, Iteration 4\t train_loss: 4.06 took: 0.01s\n",
            "forward time 0.0005407333374023438\n",
            "backward time 0.0009200572967529297\n",
            "Epoch 5, Iteration 5\t train_loss: 4.00 took: 0.01s\n",
            "forward time 0.00047135353088378906\n",
            "backward time 0.0008206367492675781\n",
            "Epoch 5, Iteration 6\t train_loss: 3.76 took: 0.01s\n",
            "Validation loss = 4.01\n",
            "forward time 0.0004482269287109375\n",
            "backward time 0.0007982254028320312\n",
            "Epoch 6, Iteration 1\t train_loss: 3.98 took: 0.01s\n",
            "forward time 0.00051116943359375\n",
            "backward time 0.0008292198181152344\n",
            "Epoch 6, Iteration 2\t train_loss: 4.04 took: 0.01s\n",
            "forward time 0.0005409717559814453\n",
            "backward time 0.0008361339569091797\n",
            "Epoch 6, Iteration 3\t train_loss: 3.99 took: 0.01s\n",
            "forward time 0.000728607177734375\n",
            "backward time 0.0008955001831054688\n",
            "Epoch 6, Iteration 4\t train_loss: 4.06 took: 0.01s\n",
            "forward time 0.0005779266357421875\n",
            "backward time 0.0008687973022460938\n",
            "Epoch 6, Iteration 5\t train_loss: 4.02 took: 0.01s\n",
            "forward time 0.0008018016815185547\n",
            "backward time 0.0010533332824707031\n",
            "Epoch 6, Iteration 6\t train_loss: 4.20 took: 0.01s\n",
            "Validation loss = 4.02\n",
            "forward time 0.00042366981506347656\n",
            "backward time 0.0009088516235351562\n",
            "Epoch 7, Iteration 1\t train_loss: 4.05 took: 0.01s\n",
            "forward time 0.0004336833953857422\n",
            "backward time 0.0008614063262939453\n",
            "Epoch 7, Iteration 2\t train_loss: 3.97 took: 0.01s\n",
            "forward time 0.0007445812225341797\n",
            "backward time 0.0008170604705810547\n",
            "Epoch 7, Iteration 3\t train_loss: 3.99 took: 0.01s\n",
            "forward time 0.00058746337890625\n",
            "backward time 0.0008580684661865234\n",
            "Epoch 7, Iteration 4\t train_loss: 4.08 took: 0.01s\n",
            "forward time 0.0005624294281005859\n",
            "backward time 0.0010726451873779297\n",
            "Epoch 7, Iteration 5\t train_loss: 4.05 took: 0.01s\n",
            "forward time 0.0005321502685546875\n",
            "backward time 0.0009930133819580078\n",
            "Epoch 7, Iteration 6\t train_loss: 3.84 took: 0.01s\n",
            "Validation loss = 4.02\n",
            "forward time 0.00045299530029296875\n",
            "backward time 0.0008971691131591797\n",
            "Epoch 8, Iteration 1\t train_loss: 4.02 took: 0.01s\n",
            "forward time 0.0005412101745605469\n",
            "backward time 0.0008206367492675781\n",
            "Epoch 8, Iteration 2\t train_loss: 4.01 took: 0.01s\n",
            "forward time 0.0005877017974853516\n",
            "backward time 0.0008878707885742188\n",
            "Epoch 8, Iteration 3\t train_loss: 4.03 took: 0.01s\n",
            "forward time 0.0004718303680419922\n",
            "backward time 0.0008575916290283203\n",
            "Epoch 8, Iteration 4\t train_loss: 4.07 took: 0.01s\n",
            "forward time 0.0005776882171630859\n",
            "backward time 0.0009970664978027344\n",
            "Epoch 8, Iteration 5\t train_loss: 4.00 took: 0.01s\n",
            "forward time 0.0004265308380126953\n",
            "backward time 0.0009565353393554688\n",
            "Epoch 8, Iteration 6\t train_loss: 4.12 took: 0.01s\n",
            "Validation loss = 4.02\n",
            "forward time 0.0004475116729736328\n",
            "backward time 0.0009644031524658203\n",
            "Epoch 9, Iteration 1\t train_loss: 3.97 took: 0.01s\n",
            "forward time 0.00046253204345703125\n",
            "backward time 0.0008106231689453125\n",
            "Epoch 9, Iteration 2\t train_loss: 4.04 took: 0.01s\n",
            "forward time 0.0004363059997558594\n",
            "backward time 0.000713348388671875\n",
            "Epoch 9, Iteration 3\t train_loss: 4.06 took: 0.01s\n",
            "forward time 0.0005743503570556641\n",
            "backward time 0.0007317066192626953\n",
            "Epoch 9, Iteration 4\t train_loss: 4.05 took: 0.02s\n",
            "forward time 0.00044345855712890625\n",
            "backward time 0.0007596015930175781\n",
            "Epoch 9, Iteration 5\t train_loss: 4.00 took: 0.01s\n",
            "forward time 0.0004010200500488281\n",
            "backward time 0.0007474422454833984\n",
            "Epoch 9, Iteration 6\t train_loss: 4.20 took: 0.01s\n",
            "Validation loss = 4.02\n",
            "forward time 0.0004208087921142578\n",
            "backward time 0.0007276535034179688\n",
            "Epoch 10, Iteration 1\t train_loss: 4.02 took: 0.01s\n",
            "forward time 0.0005052089691162109\n",
            "backward time 0.0007727146148681641\n",
            "Epoch 10, Iteration 2\t train_loss: 4.03 took: 0.01s\n",
            "forward time 0.0004487037658691406\n",
            "backward time 0.0007538795471191406\n",
            "Epoch 10, Iteration 3\t train_loss: 4.04 took: 0.01s\n",
            "forward time 0.00095367431640625\n",
            "backward time 0.0027947425842285156\n",
            "Epoch 10, Iteration 4\t train_loss: 4.01 took: 0.01s\n",
            "forward time 0.0007271766662597656\n",
            "backward time 0.0008237361907958984\n",
            "Epoch 10, Iteration 5\t train_loss: 4.06 took: 0.01s\n",
            "forward time 0.0004527568817138672\n",
            "backward time 0.0008671283721923828\n",
            "Epoch 10, Iteration 6\t train_loss: 3.92 took: 0.01s\n",
            "Validation loss = 4.02\n",
            "forward time 0.0004146099090576172\n",
            "backward time 0.0008149147033691406\n",
            "Epoch 11, Iteration 1\t train_loss: 4.03 took: 0.01s\n",
            "forward time 0.0004985332489013672\n",
            "backward time 0.0007770061492919922\n",
            "Epoch 11, Iteration 2\t train_loss: 4.00 took: 0.01s\n",
            "forward time 0.000568389892578125\n",
            "backward time 0.0008521080017089844\n",
            "Epoch 11, Iteration 3\t train_loss: 4.04 took: 0.01s\n",
            "forward time 0.0005369186401367188\n",
            "backward time 0.0007905960083007812\n",
            "Epoch 11, Iteration 4\t train_loss: 4.04 took: 0.01s\n",
            "forward time 0.0005588531494140625\n",
            "backward time 0.0008101463317871094\n",
            "Epoch 11, Iteration 5\t train_loss: 4.04 took: 0.01s\n",
            "forward time 0.0006396770477294922\n",
            "backward time 0.0013110637664794922\n",
            "Epoch 11, Iteration 6\t train_loss: 4.20 took: 0.01s\n",
            "Validation loss = 4.02\n",
            "forward time 0.00042557716369628906\n",
            "backward time 0.0006670951843261719\n",
            "Epoch 12, Iteration 1\t train_loss: 3.98 took: 0.01s\n",
            "forward time 0.00046706199645996094\n",
            "backward time 0.0007719993591308594\n",
            "Epoch 12, Iteration 2\t train_loss: 4.06 took: 0.01s\n",
            "forward time 0.0006551742553710938\n",
            "backward time 0.0008270740509033203\n",
            "Epoch 12, Iteration 3\t train_loss: 4.09 took: 0.02s\n",
            "forward time 0.0005612373352050781\n",
            "backward time 0.0008080005645751953\n",
            "Epoch 12, Iteration 4\t train_loss: 4.02 took: 0.01s\n",
            "forward time 0.0005981922149658203\n",
            "backward time 0.0008847713470458984\n",
            "Epoch 12, Iteration 5\t train_loss: 4.01 took: 0.01s\n",
            "forward time 0.0005772113800048828\n",
            "backward time 0.0009539127349853516\n",
            "Epoch 12, Iteration 6\t train_loss: 3.72 took: 0.01s\n",
            "Validation loss = 4.02\n",
            "forward time 0.0004284381866455078\n",
            "backward time 0.0010230541229248047\n",
            "Epoch 13, Iteration 1\t train_loss: 4.04 took: 0.01s\n",
            "forward time 0.0005369186401367188\n",
            "backward time 0.0008406639099121094\n",
            "Epoch 13, Iteration 2\t train_loss: 4.05 took: 0.01s\n",
            "forward time 0.0006015300750732422\n",
            "backward time 0.0007765293121337891\n",
            "Epoch 13, Iteration 3\t train_loss: 4.08 took: 0.01s\n",
            "forward time 0.0005700588226318359\n",
            "backward time 0.0008025169372558594\n",
            "Epoch 13, Iteration 4\t train_loss: 3.94 took: 0.01s\n",
            "forward time 0.00046753883361816406\n",
            "backward time 0.0007572174072265625\n",
            "Epoch 13, Iteration 5\t train_loss: 4.01 took: 0.01s\n",
            "forward time 0.0004684925079345703\n",
            "backward time 0.0007798671722412109\n",
            "Epoch 13, Iteration 6\t train_loss: 4.07 took: 0.01s\n",
            "Validation loss = 4.02\n",
            "forward time 0.0005638599395751953\n",
            "backward time 0.0008208751678466797\n",
            "Epoch 14, Iteration 1\t train_loss: 3.97 took: 0.01s\n",
            "forward time 0.0005612373352050781\n",
            "backward time 0.0008065700531005859\n",
            "Epoch 14, Iteration 2\t train_loss: 4.05 took: 0.01s\n",
            "forward time 0.00046443939208984375\n",
            "backward time 0.0007402896881103516\n",
            "Epoch 14, Iteration 3\t train_loss: 4.02 took: 0.01s\n",
            "forward time 0.00047779083251953125\n",
            "backward time 0.00086212158203125\n",
            "Epoch 14, Iteration 4\t train_loss: 4.00 took: 0.01s\n",
            "forward time 0.00048279762268066406\n",
            "backward time 0.00074005126953125\n",
            "Epoch 14, Iteration 5\t train_loss: 4.06 took: 0.01s\n",
            "forward time 0.00045108795166015625\n",
            "backward time 0.0007672309875488281\n",
            "Epoch 14, Iteration 6\t train_loss: 4.21 took: 0.01s\n",
            "Validation loss = 4.02\n",
            "forward time 0.0005114078521728516\n",
            "backward time 0.0008695125579833984\n",
            "Epoch 15, Iteration 1\t train_loss: 4.01 took: 0.01s\n",
            "forward time 0.0006256103515625\n",
            "backward time 0.0007708072662353516\n",
            "Epoch 15, Iteration 2\t train_loss: 3.97 took: 0.01s\n",
            "forward time 0.0005433559417724609\n",
            "backward time 0.0008473396301269531\n",
            "Epoch 15, Iteration 3\t train_loss: 4.06 took: 0.01s\n",
            "forward time 0.0005795955657958984\n",
            "backward time 0.0008893013000488281\n",
            "Epoch 15, Iteration 4\t train_loss: 4.08 took: 0.01s\n",
            "forward time 0.0005674362182617188\n",
            "backward time 0.0008034706115722656\n",
            "Epoch 15, Iteration 5\t train_loss: 3.97 took: 0.01s\n",
            "forward time 0.0006246566772460938\n",
            "backward time 0.0008525848388671875\n",
            "Epoch 15, Iteration 6\t train_loss: 4.16 took: 0.01s\n",
            "Validation loss = 4.01\n",
            "forward time 0.0004487037658691406\n",
            "backward time 0.0008044242858886719\n",
            "Epoch 16, Iteration 1\t train_loss: 3.98 took: 0.01s\n",
            "forward time 0.0005323886871337891\n",
            "backward time 0.0007569789886474609\n",
            "Epoch 16, Iteration 2\t train_loss: 4.06 took: 0.01s\n",
            "forward time 0.0005695819854736328\n",
            "backward time 0.0008537769317626953\n",
            "Epoch 16, Iteration 3\t train_loss: 4.06 took: 0.01s\n",
            "forward time 0.0005376338958740234\n",
            "backward time 0.0008723735809326172\n",
            "Epoch 16, Iteration 4\t train_loss: 3.98 took: 0.01s\n",
            "forward time 0.0004642009735107422\n",
            "backward time 0.0007677078247070312\n",
            "Epoch 16, Iteration 5\t train_loss: 4.02 took: 0.01s\n",
            "forward time 0.0004448890686035156\n",
            "backward time 0.0007669925689697266\n",
            "Epoch 16, Iteration 6\t train_loss: 3.98 took: 0.01s\n",
            "Validation loss = 4.01\n",
            "forward time 0.00043773651123046875\n",
            "backward time 0.0008099079132080078\n",
            "Epoch 17, Iteration 1\t train_loss: 4.05 took: 0.01s\n",
            "forward time 0.0005412101745605469\n",
            "backward time 0.0008218288421630859\n",
            "Epoch 17, Iteration 2\t train_loss: 4.06 took: 0.01s\n",
            "forward time 0.0004699230194091797\n",
            "backward time 0.0007517337799072266\n",
            "Epoch 17, Iteration 3\t train_loss: 3.99 took: 0.01s\n",
            "forward time 0.0004451274871826172\n",
            "backward time 0.0006945133209228516\n",
            "Epoch 17, Iteration 4\t train_loss: 4.02 took: 0.01s\n",
            "forward time 0.00047969818115234375\n",
            "backward time 0.0008006095886230469\n",
            "Epoch 17, Iteration 5\t train_loss: 4.01 took: 0.01s\n",
            "forward time 0.0004885196685791016\n",
            "backward time 0.0008661746978759766\n",
            "Epoch 17, Iteration 6\t train_loss: 3.64 took: 0.01s\n",
            "Validation loss = 4.02\n",
            "forward time 0.00041031837463378906\n",
            "backward time 0.0008749961853027344\n",
            "Epoch 18, Iteration 1\t train_loss: 3.97 took: 0.01s\n",
            "forward time 0.000553131103515625\n",
            "backward time 0.0008256435394287109\n",
            "Epoch 18, Iteration 2\t train_loss: 4.08 took: 0.01s\n",
            "forward time 0.0008504390716552734\n",
            "backward time 0.0008921623229980469\n",
            "Epoch 18, Iteration 3\t train_loss: 4.02 took: 0.01s\n",
            "forward time 0.0005199909210205078\n",
            "backward time 0.0007436275482177734\n",
            "Epoch 18, Iteration 4\t train_loss: 4.06 took: 0.01s\n",
            "forward time 0.000568389892578125\n",
            "backward time 0.0008068084716796875\n",
            "Epoch 18, Iteration 5\t train_loss: 4.00 took: 0.01s\n",
            "forward time 0.0004382133483886719\n",
            "backward time 0.0007526874542236328\n",
            "Epoch 18, Iteration 6\t train_loss: 4.21 took: 0.01s\n",
            "Validation loss = 4.02\n",
            "forward time 0.00039124488830566406\n",
            "backward time 0.0007722377777099609\n",
            "Epoch 19, Iteration 1\t train_loss: 4.01 took: 0.01s\n",
            "forward time 0.00044226646423339844\n",
            "backward time 0.0007140636444091797\n",
            "Epoch 19, Iteration 2\t train_loss: 4.05 took: 0.01s\n",
            "forward time 0.0004620552062988281\n",
            "backward time 0.0007724761962890625\n",
            "Epoch 19, Iteration 3\t train_loss: 4.00 took: 0.01s\n",
            "forward time 0.00047397613525390625\n",
            "backward time 0.0007174015045166016\n",
            "Epoch 19, Iteration 4\t train_loss: 4.03 took: 0.01s\n",
            "forward time 0.0005981922149658203\n",
            "backward time 0.0008332729339599609\n",
            "Epoch 19, Iteration 5\t train_loss: 4.08 took: 0.01s\n",
            "forward time 0.0005602836608886719\n",
            "backward time 0.0008492469787597656\n",
            "Epoch 19, Iteration 6\t train_loss: 3.70 took: 0.01s\n",
            "Validation loss = 4.03\n",
            "forward time 0.0005309581756591797\n",
            "backward time 0.0008714199066162109\n",
            "Epoch 20, Iteration 1\t train_loss: 3.97 took: 0.01s\n",
            "forward time 0.000507354736328125\n",
            "backward time 0.0009350776672363281\n",
            "Epoch 20, Iteration 2\t train_loss: 4.08 took: 0.01s\n",
            "forward time 0.0005714893341064453\n",
            "backward time 0.0008344650268554688\n",
            "Epoch 20, Iteration 3\t train_loss: 4.05 took: 0.01s\n",
            "forward time 0.0005412101745605469\n",
            "backward time 0.0008568763732910156\n",
            "Epoch 20, Iteration 4\t train_loss: 4.04 took: 0.01s\n",
            "forward time 0.0005397796630859375\n",
            "backward time 0.0009200572967529297\n",
            "Epoch 20, Iteration 5\t train_loss: 4.02 took: 0.01s\n",
            "forward time 0.0005018711090087891\n",
            "backward time 0.0009505748748779297\n",
            "Epoch 20, Iteration 6\t train_loss: 4.15 took: 0.01s\n",
            "Validation loss = 4.03\n",
            "Training finished, took 45.31s\n"
          ],
          "name": "stdout"
        }
      ]
    },
    {
      "cell_type": "code",
      "metadata": {
        "id": "2CSbHbJmkfAJ"
      },
      "source": [
        "#!nvidia-smi"
      ],
      "execution_count": null,
      "outputs": []
    },
    {
      "cell_type": "code",
      "metadata": {
        "id": "reyBQ7fp_H4i",
        "colab": {
          "base_uri": "https://localhost:8080/",
          "height": 283
        },
        "outputId": "e0faf7d6-ae5b-443a-b57c-21f2f39ae0e4"
      },
      "source": [
        "plt.plot(train_hist_x,train_loss_hist)\n",
        "plt.plot(test_hist_x,test_loss_hist)\n",
        "plt.legend(['train loss', 'validation loss'])\n",
        "plt.xlabel('Batch number')\n",
        "plt.ylabel('Loss')\n",
        "plt.show()"
      ],
      "execution_count": null,
      "outputs": [
        {
          "output_type": "display_data",
          "data": {
            "image/png": "[encoded data removed]",
            "text/plain": [
              "<Figure size 432x288 with 1 Axes>"
            ]
          },
          "metadata": {
            "tags": []
          }
        }
      ]
    },
    {
      "cell_type": "code",
      "metadata": {
        "id": "Hpf6lbHfVnMi"
      },
      "source": [
        "def disp_image(image, class_idx, predicted=None):\n",
        "    # need to reorder the tensor dimensions to work properly with imshow\n",
        "    plt.imshow(image.transpose(0,2).transpose(0,1))\n",
        "    plt.axis('off')\n",
        "    if predicted:\n",
        "        plt.title(\"Actual: \" + playing_cards.classes[class_idx] + \"     Predicted: \" + playing_cards.classes[predicted])\n",
        "    else:\n",
        "        plt.title(\"Actual: \" + playing_cards.classes[class_idx])\n",
        "    plt.show()"
      ],
      "execution_count": null,
      "outputs": []
    },
    {
      "cell_type": "code",
      "metadata": {
        "id": "cLcD1yVWVbtJ",
        "colab": {
          "base_uri": "https://localhost:8080/",
          "height": 85
        },
        "outputId": "69458587-9c4a-4d67-add1-0669806e60a7"
      },
      "source": [
        "def test_labels(idx):\n",
        "    image, label = playing_cards[idx]\n",
        "    class_scores = net(Variable(image.unsqueeze(0)).to(device))\n",
        "    prediction = np.argmax(class_scores.cpu().detach().numpy())\n",
        "    # disp_image(image, label, prediction)\n",
        "    return label, prediction\n",
        "  \n",
        "for i in range(len(playing_cards)):\n",
        "  label, prediction = test_labels(i)\n",
        "  if label == prediction:\n",
        "    print(i, label, prediction)"
      ],
      "execution_count": null,
      "outputs": [
        {
          "output_type": "stream",
          "text": [
            "204 51 51\n",
            "205 51 51\n",
            "206 51 51\n",
            "207 51 51\n"
          ],
          "name": "stdout"
        }
      ]
    },
    {
      "cell_type": "code",
      "metadata": {
        "id": "6TMXGke44POa",
        "colab": {
          "base_uri": "https://localhost:8080/",
          "height": 281
        },
        "outputId": "fbfaf47e-0c4d-4f4c-cb89-302232f42a74"
      },
      "source": [
        "def examine_label(idx):\n",
        "    image, label = playing_cards[idx]\n",
        "    class_scores = net(Variable(image.unsqueeze(0)).to(device))\n",
        "    prediction = np.argmax(class_scores.cpu().detach().numpy())\n",
        "    disp_image(image, label, prediction)\n",
        "\n",
        "examine_label(10)"
      ],
      "execution_count": null,
      "outputs": [
        {
          "output_type": "display_data",
          "data": {
            "image/png": "[encoded data removed]",
            "text/plain": [
              "<Figure size 432x288 with 1 Axes>"
            ]
          },
          "metadata": {
            "tags": []
          }
        }
      ]
    },
    {
      "cell_type": "code",
      "metadata": {
        "id": "FsYpLvNrdr7j",
        "colab": {
          "base_uri": "https://localhost:8080/",
          "height": 51
        },
        "outputId": "278f704e-a5d5-4937-a38e-e04a9ca6a40d"
      },
      "source": [
        "def get_accuracy(net, loader):\n",
        "    n_correct = 0\n",
        "    n_total = 0\n",
        "    for i, data in enumerate(loader, 0):\n",
        "        # Get inputs in right form\n",
        "        inputs, labels = data\n",
        "        inputs, labels = Variable(inputs).to(device), Variable(labels).to(device)\n",
        "\n",
        "        # Forward pass\n",
        "        outputs = net(inputs)\n",
        "        n_correct += np.sum(np.argmax(outputs.cpu().detach().numpy(), axis=1) == labels.cpu().numpy())\n",
        "        # print(\"Output\", np.argmax(outputs.cpu().detach().numpy(), axis=1))\n",
        "        # print(\"Actual Label\", labels.cpu().numpy())\n",
        "        n_total += labels.shape[0]\n",
        "    return n_correct/n_total\n",
        "print(\"Train accuracy is\", get_accuracy(net, train_loader))\n",
        "print(\"Test accuracy is\", get_accuracy(net, test_loader))"
      ],
      "execution_count": null,
      "outputs": [
        {
          "output_type": "stream",
          "text": [
            "Train accuracy is 0.018518518518518517\n",
            "Test accuracy is 0.018518518518518517\n"
          ],
          "name": "stdout"
        }
      ]
    }
  ]
}